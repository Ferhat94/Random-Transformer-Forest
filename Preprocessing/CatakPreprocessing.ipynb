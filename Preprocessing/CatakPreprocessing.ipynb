{
 "cells": [
  {
   "cell_type": "code",
   "execution_count": 1,
   "id": "d3a31570",
   "metadata": {},
   "outputs": [],
   "source": [
    "import pandas as pd\n",
    "import numpy as np\n",
    "from itertools import groupby\n",
    "import matplotlib"
   ]
  },
  {
   "cell_type": "code",
   "execution_count": 2,
   "id": "a5569315",
   "metadata": {},
   "outputs": [],
   "source": [
    "catakOriginal = pd.read_csv(\"../Datasets/CatakOriginal.csv\")"
   ]
  },
  {
   "cell_type": "code",
   "execution_count": 3,
   "id": "a5609bb8",
   "metadata": {},
   "outputs": [],
   "source": [
    "catakOriginal.head()"
   ]
  },
  {
   "cell_type": "code",
   "execution_count": 4,
   "id": "f46cf8b4",
   "metadata": {},
   "outputs": [],
   "source": [
    "catakOriginal[\"class\"].value_counts()"
   ]
  },
  {
   "cell_type": "code",
   "execution_count": 5,
   "id": "89f7aec6",
   "metadata": {},
   "outputs": [],
   "source": [
    "len(catakOriginal)"
   ]
  },
  {
   "cell_type": "code",
   "execution_count": 6,
   "id": "22737baf",
   "metadata": {},
   "outputs": [],
   "source": [
    "def removeRepeatedApis(x):\n",
    "    nonPeriodic = []\n",
    "    for i, obj in groupby(x):\n",
    "        nonPeriodic.append(i)\n",
    "    return nonPeriodic"
   ]
  },
  {
   "cell_type": "code",
   "execution_count": 7,
   "id": "b0739b4a",
   "metadata": {},
   "outputs": [],
   "source": [
    "catakOriginal[\"nonPeriodic\"] = \"\""
   ]
  },
  {
   "cell_type": "code",
   "execution_count": 8,
   "id": "58ddb562",
   "metadata": {},
   "outputs": [],
   "source": [
    "for i in range(len(catakOriginal)):\n",
    "    catakOriginal.nonPeriodic.iloc[i] = \" \".join(removeRepeatedApis(catakOriginal.api.iloc[i].split(\" \")))"
   ]
  },
  {
   "cell_type": "code",
   "execution_count": 9,
   "id": "b54b20d4",
   "metadata": {},
   "outputs": [],
   "source": [
    "catak.head()"
   ]
  },
  {
   "cell_type": "code",
   "execution_count": 10,
   "id": "25540e08",
   "metadata": {},
   "outputs": [],
   "source": [
    "def removeRedundantAPICalls(x):\n",
    "    try:\n",
    "        if len(x) == 1 or len(x) == 2 or len(x) == 3:\n",
    "            return x\n",
    "        else:\n",
    "            i = 0\n",
    "            while True:               \n",
    "                if x[i] == x[i+2] and x[i+1] == x[i+3]:\n",
    "                    del x[i:i+2]\n",
    "                    i -= 1   \n",
    "                #if (i + 4) == len(x):\n",
    "                if (i + 4) >= len(x):\n",
    "                    #i = 0\n",
    "                    break\n",
    "                i += 1\n",
    "            i = 0\n",
    "            while True:\n",
    "                if x[i] == x[i+3] and x[i+1] == x[i+4] and x[i+2] == x[i+5]:\n",
    "                    del x[i:i+3]\n",
    "                    i -= 1\n",
    "                #if (i + 6) == len(x):\n",
    "                if (i + 6) >= len(x):\n",
    "                    break\n",
    "                i += 1\n",
    "    except:\n",
    "        pass\n",
    "    return x"
   ]
  },
  {
   "cell_type": "code",
   "execution_count": 11,
   "id": "8ed6cdd5",
   "metadata": {},
   "outputs": [],
   "source": [
    "removeRedundantAPICalls([\"a\",\"b\",\"c\",\"a\",\"b\",\"c\",\"g\",\"f\",\"g\",\"f\",\"d\",\"e\",\"b\",\"a\",\"b\",\"a\",\"b\",\"a\",\"b\",\"v\",\"d\",\"a\",\"d\",\"a\"])"
   ]
  },
  {
   "cell_type": "code",
   "execution_count": 12,
   "id": "fd623302",
   "metadata": {},
   "outputs": [],
   "source": [
    "removeRedundantAPICalls([\"a\",\"b\",\"c\",\"a\",\"b\",\"c\",\"g\",\"f\",\"g\",\"f\",\"d\",\"e\",\"b\",\"a\",\"b\",\"a\",\"b\",\"c\",\"a\",\"b\",\"c\"])"
   ]
  },
  {
   "cell_type": "code",
   "execution_count": 13,
   "id": "764d012b",
   "metadata": {},
   "outputs": [],
   "source": [
    "catakOriginal[\"newApis\"] = \"\""
   ]
  },
  {
   "cell_type": "code",
   "execution_count": 14,
   "id": "9d92d70a",
   "metadata": {},
   "outputs": [],
   "source": [
    "catakOriginal.head()"
   ]
  },
  {
   "cell_type": "code",
   "execution_count": null,
   "id": "85437843",
   "metadata": {},
   "outputs": [],
   "source": [
    "for i in range(len(catakOriginal)):\n",
    "    catakOriginal[\"newApis\"].iloc[i] = \" \".join(removeRedundantAPICalls(catakOriginal.nonPeriodic.iloc[i].split(\" \")))\n",
    "    if i % 1000 == 0:\n",
    "        print(f'{i}. sample is done')"
   ]
  },
  {
   "cell_type": "code",
   "execution_count": 28,
   "id": "8395d76d",
   "metadata": {},
   "outputs": [],
   "source": [
    "malware_calls = catakOriginal[[\"newApis\",\"class\"]]"
   ]
  },
  {
   "cell_type": "code",
   "execution_count": 30,
   "id": "72d5f783",
   "metadata": {},
   "outputs": [],
   "source": [
    "malware_calls.columns = [\"api\",\"class\"]"
   ]
  },
  {
   "cell_type": "code",
   "execution_count": null,
   "id": "742c177a",
   "metadata": {},
   "outputs": [],
   "source": [
    "malware_calls.to_csv(\"../Datasets/CatakPreprocessed.csv\", index = False)"
   ]
  }
 ],
 "metadata": {
  "kernelspec": {
   "display_name": "Python 3 (ipykernel)",
   "language": "python",
   "name": "python3"
  },
  "language_info": {
   "codemirror_mode": {
    "name": "ipython",
    "version": 3
   },
   "file_extension": ".py",
   "mimetype": "text/x-python",
   "name": "python",
   "nbconvert_exporter": "python",
   "pygments_lexer": "ipython3",
   "version": "3.7.9"
  }
 },
 "nbformat": 4,
 "nbformat_minor": 5
}
